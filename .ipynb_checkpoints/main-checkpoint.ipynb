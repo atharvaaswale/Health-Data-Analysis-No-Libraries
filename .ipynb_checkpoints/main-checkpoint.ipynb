{
  "cells": [
    {
      "cell_type": "code",
      "source": [
        "from ui_module import start_ui\n",
        "# Start the UI\n",
        "start_ui()"
      ],
      "metadata": {
        "id": "np2VD9aACMbs",
        "colab": {
          "base_uri": "https://localhost:8080/"
        },
        "outputId": "bfc98152-f4ff-4d84-905b-a899cafa4577"
      },
      "execution_count": 6,
      "outputs": [
        {
          "output_type": "stream",
          "name": "stdout",
          "text": [
            "\n",
            "=== Stroke Data Analytics ===\n",
            "1. Smokers with hypertension and stroke\n",
            "2. Heart disease with stroke\n",
            "3. Hypertension by gender\n",
            "4. Smoking habits (stroke vs. no stroke)\n",
            "5. Urban vs. rural with stroke\n",
            "6. Dietary habits\n",
            "7. Individuals with hypertension and stroke\n",
            "8. Hypertension (stroke vs. no stroke)\n",
            "9. Individuals with heart disease and stroke\n",
            "10. Descriptive statistics for a feature\n",
            "11. Average sleep hours\n",
            "12. Quit\n",
            "Enter your choice (1-12): 12\n",
            "Goodbye!\n"
          ]
        }
      ]
    },
    {
      "cell_type": "code",
      "source": [],
      "metadata": {
        "id": "x4mm2ZCxQ1XC"
      },
      "execution_count": null,
      "outputs": []
    }
  ],
  "metadata": {
    "kernelspec": {
      "display_name": "Python 3",
      "language": "python",
      "name": "python3"
    },
    "language_info": {
      "codemirror_mode": {
        "name": "ipython",
        "version": 3
      },
      "file_extension": ".py",
      "mimetype": "text/x-python",
      "name": "python",
      "nbconvert_exporter": "python",
      "pygments_lexer": "ipython3",
      "version": "3.x"
    },
    "colab": {
      "provenance": []
    }
  },
  "nbformat": 4,
  "nbformat_minor": 0
}