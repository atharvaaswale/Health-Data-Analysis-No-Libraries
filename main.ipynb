{
 "cells": [
  {
   "cell_type": "code",
   "execution_count": null,
   "metadata": {
    "colab": {
     "base_uri": "https://localhost:8080/"
    },
    "id": "np2VD9aACMbs",
    "outputId": "bfc98152-f4ff-4d84-905b-a899cafa4577"
   },
   "outputs": [
    {
     "name": "stdout",
     "output_type": "stream",
     "text": [
      "\n",
      "=== Stroke Data Analytics ===\n",
      "1. Smokers with hypertension and stroke\n",
      "2. Heart disease with stroke\n",
      "3. Hypertension by gender\n",
      "4. Smoking habits (stroke vs. no stroke)\n",
      "5. Urban vs. rural with stroke\n",
      "6. Dietary habits\n",
      "7. Individuals with hypertension and stroke\n",
      "8. Hypertension (stroke vs. no stroke)\n",
      "9. Individuals with heart disease and stroke\n",
      "10. Descriptive statistics for a feature\n",
      "11. Average sleep hours\n",
      "12. Quit\n"
     ]
    },
    {
     "name": "stdin",
     "output_type": "stream",
     "text": [
      "Enter your choice (1-12):  6\n"
     ]
    },
    {
     "name": "stdout",
     "output_type": "stream",
     "text": [
      "Stroke habits: ['Non-Vegetarian', 'Vegetarian', 'Mixed', 'Mixed', 'Non-Vegetarian'] ...\n",
      "No stroke habits: ['Mixed', 'Non-Vegetarian', 'Vegetarian', 'Vegetarian', 'Non-Vegetarian'] ...\n"
     ]
    },
    {
     "name": "stdin",
     "output_type": "stream",
     "text": [
      "Continue? (y/n):  y\n"
     ]
    },
    {
     "name": "stdout",
     "output_type": "stream",
     "text": [
      "\n",
      "=== Stroke Data Analytics ===\n",
      "1. Smokers with hypertension and stroke\n",
      "2. Heart disease with stroke\n",
      "3. Hypertension by gender\n",
      "4. Smoking habits (stroke vs. no stroke)\n",
      "5. Urban vs. rural with stroke\n",
      "6. Dietary habits\n",
      "7. Individuals with hypertension and stroke\n",
      "8. Hypertension (stroke vs. no stroke)\n",
      "9. Individuals with heart disease and stroke\n",
      "10. Descriptive statistics for a feature\n",
      "11. Average sleep hours\n",
      "12. Quit\n"
     ]
    },
    {
     "name": "stdin",
     "output_type": "stream",
     "text": [
      "Enter your choice (1-12):  7\n"
     ]
    },
    {
     "name": "stdout",
     "output_type": "stream",
     "text": [
      "First 5 records: [{'ID': '40', 'Age': '86', 'Gender': 'Male', 'Hypertension': '1', 'Heart Disease': '0', 'Ever Married': '0', 'Work Type': 'Never Worked', 'Residence Type': 'Urban', 'Average Glucose Level': '297.68', 'BMI': '39.1', 'Smoking Status': 'Formerly smoked', 'Physical Activity': 'Light', 'Dietary Habits': 'Vegetarian', 'Alcohol Consumption': '0', 'Chronic Stress': '0', 'Sleep Hours': '11', 'Family History of Stroke': '0', 'Education Level': 'Secondary', 'Income Level': 'High', 'Stroke Risk Score': '30', 'Region': 'West', 'Stroke Occurrence': '1'}, {'ID': '125', 'Age': '67', 'Gender': 'Male', 'Hypertension': '1', 'Heart Disease': '0', 'Ever Married': '0', 'Work Type': 'Government', 'Residence Type': 'Urban', 'Average Glucose Level': '289.7', 'BMI': '23', 'Smoking Status': 'Never smoked', 'Physical Activity': 'Sedentary', 'Dietary Habits': 'Mixed', 'Alcohol Consumption': '0', 'Chronic Stress': '0', 'Sleep Hours': '11', 'Family History of Stroke': '0', 'Education Level': 'Secondary', 'Income Level': 'Low', 'Stroke Risk Score': '38', 'Region': 'East', 'Stroke Occurrence': '1'}, {'ID': '157', 'Age': '66', 'Gender': 'Female', 'Hypertension': '1', 'Heart Disease': '0', 'Ever Married': '0', 'Work Type': 'Government', 'Residence Type': 'Urban', 'Average Glucose Level': '116.42', 'BMI': '11.1', 'Smoking Status': 'Never smoked', 'Physical Activity': 'Active', 'Dietary Habits': 'Non-Vegetarian', 'Alcohol Consumption': '0', 'Chronic Stress': '0', 'Sleep Hours': '8', 'Family History of Stroke': '0', 'Education Level': 'Tertiary', 'Income Level': 'Middle', 'Stroke Risk Score': '11', 'Region': 'North', 'Stroke Occurrence': '1'}, {'ID': '162', 'Age': '68', 'Gender': 'Female', 'Hypertension': '1', 'Heart Disease': '0', 'Ever Married': '0', 'Work Type': 'Never Worked', 'Residence Type': 'Urban', 'Average Glucose Level': '282.48', 'BMI': '36.7', 'Smoking Status': 'Never smoked', 'Physical Activity': 'Light', 'Dietary Habits': 'Non-Vegetarian', 'Alcohol Consumption': '0', 'Chronic Stress': '1', 'Sleep Hours': '5', 'Family History of Stroke': '0', 'Education Level': 'No education', 'Income Level': 'Middle', 'Stroke Risk Score': '73', 'Region': 'North', 'Stroke Occurrence': '1'}, {'ID': '175', 'Age': '71', 'Gender': 'Male', 'Hypertension': '1', 'Heart Disease': '0', 'Ever Married': '1', 'Work Type': 'Private', 'Residence Type': 'Rural', 'Average Glucose Level': '192.99', 'BMI': '46', 'Smoking Status': 'Unknown', 'Physical Activity': 'Moderate', 'Dietary Habits': 'Non-Vegetarian', 'Alcohol Consumption': '0', 'Chronic Stress': '0', 'Sleep Hours': '10', 'Family History of Stroke': '0', 'Education Level': 'Primary', 'Income Level': 'Low', 'Stroke Risk Score': '63', 'Region': 'South', 'Stroke Occurrence': '1'}]\n"
     ]
    }
   ],
   "source": [
    "from ui_module import start_ui\n",
    "# Start the UI\n",
    "start_ui()"
   ]
  },
  {
   "cell_type": "code",
   "execution_count": null,
   "metadata": {
    "id": "x4mm2ZCxQ1XC"
   },
   "outputs": [],
   "source": []
  }
 ],
 "metadata": {
  "colab": {
   "provenance": []
  },
  "kernelspec": {
   "display_name": "Python 3 (ipykernel)",
   "language": "python",
   "name": "python3"
  },
  "language_info": {
   "codemirror_mode": {
    "name": "ipython",
    "version": 3
   },
   "file_extension": ".py",
   "mimetype": "text/x-python",
   "name": "python",
   "nbconvert_exporter": "python",
   "pygments_lexer": "ipython3",
   "version": "3.12.7"
  }
 },
 "nbformat": 4,
 "nbformat_minor": 4
}
