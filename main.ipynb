{
 "cells": [
  {
   "cell_type": "code",
   "execution_count": null,
   "metadata": {
    "colab": {
     "base_uri": "https://localhost:8080/"
    },
    "id": "np2VD9aACMbs",
    "outputId": "bfc98152-f4ff-4d84-905b-a899cafa4577"
   },
   "outputs": [
    {
     "name": "stdout",
     "output_type": "stream",
     "text": [
      "\n",
      "=== Stroke Data Analytics ===\n",
      "1. Smokers with hypertension and stroke\n",
      "2. Heart disease with stroke\n",
      "3. Hypertension by gender\n",
      "4. Smoking habits (stroke vs. no stroke)\n",
      "5. Urban vs. rural with stroke\n",
      "6. Dietary habits\n",
      "7. Individuals with hypertension and stroke\n",
      "8. Hypertension (stroke vs. no stroke)\n",
      "9. Individuals with heart disease and stroke\n",
      "10. Descriptive statistics for a feature\n",
      "11. Average sleep hours\n",
      "12. Quit\n"
     ]
    }
   ],
   "source": [
    "from ui_module import start_ui\n",
    "# Start the UI\n",
    "start_ui()"
   ]
  },
  {
   "cell_type": "code",
   "execution_count": null,
   "metadata": {
    "id": "x4mm2ZCxQ1XC"
   },
   "outputs": [],
   "source": []
  }
 ],
 "metadata": {
  "colab": {
   "provenance": []
  },
  "kernelspec": {
   "display_name": "Python 3 (ipykernel)",
   "language": "python",
   "name": "python3"
  },
  "language_info": {
   "codemirror_mode": {
    "name": "ipython",
    "version": 3
   },
   "file_extension": ".py",
   "mimetype": "text/x-python",
   "name": "python",
   "nbconvert_exporter": "python",
   "pygments_lexer": "ipython3",
   "version": "3.12.7"
  }
 },
 "nbformat": 4,
 "nbformat_minor": 4
}
